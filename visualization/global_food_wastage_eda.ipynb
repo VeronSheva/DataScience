{
 "cells": [
  {
   "cell_type": "code",
   "execution_count": 1,
   "id": "ae54537e-ade7-4506-954a-160dda3d9613",
   "metadata": {},
   "outputs": [
    {
     "name": "stderr",
     "output_type": "stream",
     "text": [
      "C:\\Users\\Artur\\PycharmProjects\\veronika_python\\datascience\\my_env\\Lib\\site-packages\\tqdm\\auto.py:21: TqdmWarning: IProgress not found. Please update jupyter and ipywidgets. See https://ipywidgets.readthedocs.io/en/stable/user_install.html\n",
      "  from .autonotebook import tqdm as notebook_tqdm\n"
     ]
    }
   ],
   "source": [
    "import kagglehub\n",
    "import pandas as pd\n",
    "import numpy as np\n",
    "import seaborn as sns\n",
    "from sklearn.metrics import mean_squared_error\n",
    "\n",
    "import matplotlib.pyplot as plt\n",
    "\n",
    "from sklearn.model_selection import train_test_split, GridSearchCV, cross_val_score\n",
    "from sklearn.compose import make_column_transformer, ColumnTransformer\n",
    "from sklearn.pipeline import Pipeline, make_pipeline\n",
    "from sklearn.impute import SimpleImputer\n",
    "from sklearn.preprocessing import OrdinalEncoder, StandardScaler, OneHotEncoder\n",
    "\n",
    "from sklearn.linear_model import LinearRegression, Ridge\n",
    "from sklearn.ensemble import RandomForestRegressor, GradientBoostingRegressor, VotingRegressor, StackingRegressor\n",
    "# Download latest version\n",
    "# path = kagglehub.dataset_download(\"atharvasoundankar/global-food-wastage-dataset-2018-2024\")"
   ]
  },
  {
   "cell_type": "code",
   "execution_count": 2,
   "id": "7b365c41-d873-44cc-9579-a0f0e6783323",
   "metadata": {},
   "outputs": [
    {
     "data": {
      "text/html": [
       "<div>\n",
       "<style scoped>\n",
       "    .dataframe tbody tr th:only-of-type {\n",
       "        vertical-align: middle;\n",
       "    }\n",
       "\n",
       "    .dataframe tbody tr th {\n",
       "        vertical-align: top;\n",
       "    }\n",
       "\n",
       "    .dataframe thead th {\n",
       "        text-align: right;\n",
       "    }\n",
       "</style>\n",
       "<table border=\"1\" class=\"dataframe\">\n",
       "  <thead>\n",
       "    <tr style=\"text-align: right;\">\n",
       "      <th></th>\n",
       "      <th>Country</th>\n",
       "      <th>Year</th>\n",
       "      <th>Food Category</th>\n",
       "      <th>Total Waste (Tons)</th>\n",
       "      <th>Economic Loss (Million $)</th>\n",
       "      <th>Avg Waste per Capita (Kg)</th>\n",
       "      <th>Population (Million)</th>\n",
       "      <th>Household Waste (%)</th>\n",
       "    </tr>\n",
       "  </thead>\n",
       "  <tbody>\n",
       "    <tr>\n",
       "      <th>0</th>\n",
       "      <td>Australia</td>\n",
       "      <td>2019</td>\n",
       "      <td>Fruits &amp; Vegetables</td>\n",
       "      <td>19268.63</td>\n",
       "      <td>18686.68</td>\n",
       "      <td>72.69</td>\n",
       "      <td>87.59</td>\n",
       "      <td>53.64</td>\n",
       "    </tr>\n",
       "    <tr>\n",
       "      <th>1</th>\n",
       "      <td>Indonesia</td>\n",
       "      <td>2019</td>\n",
       "      <td>Prepared Food</td>\n",
       "      <td>3916.97</td>\n",
       "      <td>4394.48</td>\n",
       "      <td>192.52</td>\n",
       "      <td>1153.99</td>\n",
       "      <td>30.61</td>\n",
       "    </tr>\n",
       "    <tr>\n",
       "      <th>2</th>\n",
       "      <td>Germany</td>\n",
       "      <td>2022</td>\n",
       "      <td>Dairy Products</td>\n",
       "      <td>9700.16</td>\n",
       "      <td>8909.16</td>\n",
       "      <td>166.94</td>\n",
       "      <td>1006.11</td>\n",
       "      <td>48.08</td>\n",
       "    </tr>\n",
       "    <tr>\n",
       "      <th>3</th>\n",
       "      <td>France</td>\n",
       "      <td>2023</td>\n",
       "      <td>Fruits &amp; Vegetables</td>\n",
       "      <td>46299.69</td>\n",
       "      <td>40551.22</td>\n",
       "      <td>120.19</td>\n",
       "      <td>953.05</td>\n",
       "      <td>31.91</td>\n",
       "    </tr>\n",
       "    <tr>\n",
       "      <th>4</th>\n",
       "      <td>France</td>\n",
       "      <td>2023</td>\n",
       "      <td>Beverages</td>\n",
       "      <td>33096.57</td>\n",
       "      <td>36980.82</td>\n",
       "      <td>104.74</td>\n",
       "      <td>1105.47</td>\n",
       "      <td>36.06</td>\n",
       "    </tr>\n",
       "  </tbody>\n",
       "</table>\n",
       "</div>"
      ],
      "text/plain": [
       "     Country  Year        Food Category  Total Waste (Tons)  \\\n",
       "0  Australia  2019  Fruits & Vegetables            19268.63   \n",
       "1  Indonesia  2019        Prepared Food             3916.97   \n",
       "2    Germany  2022       Dairy Products             9700.16   \n",
       "3     France  2023  Fruits & Vegetables            46299.69   \n",
       "4     France  2023            Beverages            33096.57   \n",
       "\n",
       "   Economic Loss (Million $)  Avg Waste per Capita (Kg)  Population (Million)  \\\n",
       "0                   18686.68                      72.69                 87.59   \n",
       "1                    4394.48                     192.52               1153.99   \n",
       "2                    8909.16                     166.94               1006.11   \n",
       "3                   40551.22                     120.19                953.05   \n",
       "4                   36980.82                     104.74               1105.47   \n",
       "\n",
       "   Household Waste (%)  \n",
       "0                53.64  \n",
       "1                30.61  \n",
       "2                48.08  \n",
       "3                31.91  \n",
       "4                36.06  "
      ]
     },
     "execution_count": 2,
     "metadata": {},
     "output_type": "execute_result"
    }
   ],
   "source": [
    "df = pd.read_csv('1/global_food_wastage_dataset.csv')\n",
    "df.head()"
   ]
  },
  {
   "cell_type": "code",
   "execution_count": 3,
   "id": "43b84693-3ca6-408c-a567-e2ec6b9b995f",
   "metadata": {},
   "outputs": [
    {
     "data": {
      "text/plain": [
       "(5000, 8)"
      ]
     },
     "execution_count": 3,
     "metadata": {},
     "output_type": "execute_result"
    }
   ],
   "source": [
    "df.shape"
   ]
  },
  {
   "cell_type": "code",
   "execution_count": 4,
   "id": "96c188fa-8c41-43c6-b059-93ebd0ee9ecc",
   "metadata": {},
   "outputs": [
    {
     "data": {
      "text/html": [
       "<div>\n",
       "<style scoped>\n",
       "    .dataframe tbody tr th:only-of-type {\n",
       "        vertical-align: middle;\n",
       "    }\n",
       "\n",
       "    .dataframe tbody tr th {\n",
       "        vertical-align: top;\n",
       "    }\n",
       "\n",
       "    .dataframe thead th {\n",
       "        text-align: right;\n",
       "    }\n",
       "</style>\n",
       "<table border=\"1\" class=\"dataframe\">\n",
       "  <thead>\n",
       "    <tr style=\"text-align: right;\">\n",
       "      <th></th>\n",
       "      <th>Year</th>\n",
       "      <th>Total Waste (Tons)</th>\n",
       "      <th>Economic Loss (Million $)</th>\n",
       "      <th>Avg Waste per Capita (Kg)</th>\n",
       "      <th>Population (Million)</th>\n",
       "      <th>Household Waste (%)</th>\n",
       "    </tr>\n",
       "  </thead>\n",
       "  <tbody>\n",
       "    <tr>\n",
       "      <th>count</th>\n",
       "      <td>5000.000000</td>\n",
       "      <td>5000.000000</td>\n",
       "      <td>5000.000000</td>\n",
       "      <td>5000.00000</td>\n",
       "      <td>5000.000000</td>\n",
       "      <td>5000.000000</td>\n",
       "    </tr>\n",
       "    <tr>\n",
       "      <th>mean</th>\n",
       "      <td>2021.015600</td>\n",
       "      <td>25061.780072</td>\n",
       "      <td>25039.703870</td>\n",
       "      <td>109.46397</td>\n",
       "      <td>706.606416</td>\n",
       "      <td>50.060890</td>\n",
       "    </tr>\n",
       "    <tr>\n",
       "      <th>std</th>\n",
       "      <td>1.999239</td>\n",
       "      <td>14245.119588</td>\n",
       "      <td>14620.236429</td>\n",
       "      <td>51.93373</td>\n",
       "      <td>402.546464</td>\n",
       "      <td>11.596203</td>\n",
       "    </tr>\n",
       "    <tr>\n",
       "      <th>min</th>\n",
       "      <td>2018.000000</td>\n",
       "      <td>502.610000</td>\n",
       "      <td>406.690000</td>\n",
       "      <td>20.09000</td>\n",
       "      <td>11.290000</td>\n",
       "      <td>30.020000</td>\n",
       "    </tr>\n",
       "    <tr>\n",
       "      <th>25%</th>\n",
       "      <td>2019.000000</td>\n",
       "      <td>12783.737500</td>\n",
       "      <td>12612.477500</td>\n",
       "      <td>64.05000</td>\n",
       "      <td>350.602500</td>\n",
       "      <td>40.012500</td>\n",
       "    </tr>\n",
       "    <tr>\n",
       "      <th>50%</th>\n",
       "      <td>2021.000000</td>\n",
       "      <td>24865.220000</td>\n",
       "      <td>24428.155000</td>\n",
       "      <td>110.08000</td>\n",
       "      <td>713.530000</td>\n",
       "      <td>50.295000</td>\n",
       "    </tr>\n",
       "    <tr>\n",
       "      <th>75%</th>\n",
       "      <td>2023.000000</td>\n",
       "      <td>37471.035000</td>\n",
       "      <td>37146.037500</td>\n",
       "      <td>154.52500</td>\n",
       "      <td>1057.255000</td>\n",
       "      <td>60.125000</td>\n",
       "    </tr>\n",
       "    <tr>\n",
       "      <th>max</th>\n",
       "      <td>2024.000000</td>\n",
       "      <td>49990.760000</td>\n",
       "      <td>59228.930000</td>\n",
       "      <td>199.97000</td>\n",
       "      <td>1399.970000</td>\n",
       "      <td>70.000000</td>\n",
       "    </tr>\n",
       "  </tbody>\n",
       "</table>\n",
       "</div>"
      ],
      "text/plain": [
       "              Year  Total Waste (Tons)  Economic Loss (Million $)  \\\n",
       "count  5000.000000         5000.000000                5000.000000   \n",
       "mean   2021.015600        25061.780072               25039.703870   \n",
       "std       1.999239        14245.119588               14620.236429   \n",
       "min    2018.000000          502.610000                 406.690000   \n",
       "25%    2019.000000        12783.737500               12612.477500   \n",
       "50%    2021.000000        24865.220000               24428.155000   \n",
       "75%    2023.000000        37471.035000               37146.037500   \n",
       "max    2024.000000        49990.760000               59228.930000   \n",
       "\n",
       "       Avg Waste per Capita (Kg)  Population (Million)  Household Waste (%)  \n",
       "count                 5000.00000           5000.000000          5000.000000  \n",
       "mean                   109.46397            706.606416            50.060890  \n",
       "std                     51.93373            402.546464            11.596203  \n",
       "min                     20.09000             11.290000            30.020000  \n",
       "25%                     64.05000            350.602500            40.012500  \n",
       "50%                    110.08000            713.530000            50.295000  \n",
       "75%                    154.52500           1057.255000            60.125000  \n",
       "max                    199.97000           1399.970000            70.000000  "
      ]
     },
     "execution_count": 4,
     "metadata": {},
     "output_type": "execute_result"
    }
   ],
   "source": [
    "df.describe()"
   ]
  },
  {
   "cell_type": "code",
   "execution_count": 5,
   "id": "c8c4cc10-eb08-47ee-9644-5211d52482ee",
   "metadata": {},
   "outputs": [
    {
     "name": "stdout",
     "output_type": "stream",
     "text": [
      "<class 'pandas.core.frame.DataFrame'>\n",
      "RangeIndex: 5000 entries, 0 to 4999\n",
      "Data columns (total 8 columns):\n",
      " #   Column                     Non-Null Count  Dtype  \n",
      "---  ------                     --------------  -----  \n",
      " 0   Country                    5000 non-null   object \n",
      " 1   Year                       5000 non-null   int64  \n",
      " 2   Food Category              5000 non-null   object \n",
      " 3   Total Waste (Tons)         5000 non-null   float64\n",
      " 4   Economic Loss (Million $)  5000 non-null   float64\n",
      " 5   Avg Waste per Capita (Kg)  5000 non-null   float64\n",
      " 6   Population (Million)       5000 non-null   float64\n",
      " 7   Household Waste (%)        5000 non-null   float64\n",
      "dtypes: float64(5), int64(1), object(2)\n",
      "memory usage: 312.6+ KB\n"
     ]
    }
   ],
   "source": [
    "df.info()"
   ]
  },
  {
   "cell_type": "code",
   "execution_count": 6,
   "id": "878bcf03-7219-41c5-b8de-f338bcf8c4b2",
   "metadata": {},
   "outputs": [
    {
     "data": {
      "text/plain": [
       "Year\n",
       "2023    737\n",
       "2021    734\n",
       "2020    731\n",
       "2024    721\n",
       "2018    708\n",
       "2019    691\n",
       "2022    678\n",
       "Name: count, dtype: int64"
      ]
     },
     "execution_count": 6,
     "metadata": {},
     "output_type": "execute_result"
    }
   ],
   "source": [
    "df.Year.value_counts()"
   ]
  },
  {
   "cell_type": "code",
   "execution_count": 7,
   "id": "1806e3e6-9b0e-4cd2-966a-d974b2935b74",
   "metadata": {},
   "outputs": [
    {
     "data": {
      "text/html": [
       "<div>\n",
       "<style scoped>\n",
       "    .dataframe tbody tr th:only-of-type {\n",
       "        vertical-align: middle;\n",
       "    }\n",
       "\n",
       "    .dataframe tbody tr th {\n",
       "        vertical-align: top;\n",
       "    }\n",
       "\n",
       "    .dataframe thead th {\n",
       "        text-align: right;\n",
       "    }\n",
       "</style>\n",
       "<table border=\"1\" class=\"dataframe\">\n",
       "  <thead>\n",
       "    <tr style=\"text-align: right;\">\n",
       "      <th></th>\n",
       "      <th>Country</th>\n",
       "      <th>Year</th>\n",
       "      <th>Population (Million)</th>\n",
       "      <th>Economic Loss (Million $)</th>\n",
       "    </tr>\n",
       "  </thead>\n",
       "  <tbody>\n",
       "    <tr>\n",
       "      <th>135</th>\n",
       "      <td>USA</td>\n",
       "      <td>2020</td>\n",
       "      <td>649.791667</td>\n",
       "      <td>23884.319667</td>\n",
       "    </tr>\n",
       "    <tr>\n",
       "      <th>136</th>\n",
       "      <td>USA</td>\n",
       "      <td>2021</td>\n",
       "      <td>708.733929</td>\n",
       "      <td>25170.665714</td>\n",
       "    </tr>\n",
       "    <tr>\n",
       "      <th>137</th>\n",
       "      <td>USA</td>\n",
       "      <td>2022</td>\n",
       "      <td>736.858261</td>\n",
       "      <td>26753.353043</td>\n",
       "    </tr>\n",
       "    <tr>\n",
       "      <th>138</th>\n",
       "      <td>USA</td>\n",
       "      <td>2023</td>\n",
       "      <td>756.794444</td>\n",
       "      <td>24431.640556</td>\n",
       "    </tr>\n",
       "    <tr>\n",
       "      <th>139</th>\n",
       "      <td>USA</td>\n",
       "      <td>2024</td>\n",
       "      <td>760.172143</td>\n",
       "      <td>22462.688333</td>\n",
       "    </tr>\n",
       "  </tbody>\n",
       "</table>\n",
       "</div>"
      ],
      "text/plain": [
       "    Country  Year  Population (Million)  Economic Loss (Million $)\n",
       "135     USA  2020            649.791667               23884.319667\n",
       "136     USA  2021            708.733929               25170.665714\n",
       "137     USA  2022            736.858261               26753.353043\n",
       "138     USA  2023            756.794444               24431.640556\n",
       "139     USA  2024            760.172143               22462.688333"
      ]
     },
     "execution_count": 7,
     "metadata": {},
     "output_type": "execute_result"
    }
   ],
   "source": [
    "df_sorted= df.sort_values(by='Country')\n",
    "df_sorted = df_sorted.groupby(['Country', 'Year'], as_index=False)[['Population (Million)', 'Economic Loss (Million $)']].mean()\n",
    "df_sorted.tail()"
   ]
  },
  {
   "cell_type": "code",
   "execution_count": 8,
   "id": "449183b0-9b61-4f4c-9266-ba98ad27bb56",
   "metadata": {},
   "outputs": [
    {
     "data": {
      "text/plain": [
       "Text(0.5, 1.0, 'Relationship between Total Waste and Economic Loss')"
      ]
     },
     "execution_count": 8,
     "metadata": {},
     "output_type": "execute_result"
    },
    {
     "data": {
      "image/png": "[encoded data removed]",
      "text/plain": [
       "<Figure size 500x500 with 1 Axes>"
      ]
     },
     "metadata": {},
     "output_type": "display_data"
    }
   ],
   "source": [
    "sns.relplot(data=df, x=\"Total Waste (Tons)\", y=\"Economic Loss (Million $)\")\n",
    "plt.title('Relationship between Total Waste and Economic Loss')"
   ]
  },
  {
   "cell_type": "code",
   "execution_count": 9,
   "id": "ce65f1ec-6b25-42f2-8f0b-a1b7a37be1f8",
   "metadata": {},
   "outputs": [
    {
     "data": {
      "text/plain": [
       "array(['Australia', 'Indonesia', 'Germany', 'France', 'India', 'China',\n",
       "       'UK', 'South Africa', 'Japan', 'USA', 'Brazil', 'Saudi Arabia',\n",
       "       'Italy', 'Spain', 'Mexico', 'Argentina', 'Canada', 'South Korea',\n",
       "       'Russia', 'Turkey'], dtype=object)"
      ]
     },
     "execution_count": 9,
     "metadata": {},
     "output_type": "execute_result"
    }
   ],
   "source": [
    "df.Country.unique()"
   ]
  },
  {
   "cell_type": "code",
   "execution_count": 10,
   "id": "7bbde72b-0756-4692-a00e-bdc1846e4dfd",
   "metadata": {},
   "outputs": [
    {
     "name": "stdout",
     "output_type": "stream",
     "text": [
      "Food Categories: ['Fruits & Vegetables' 'Prepared Food' 'Dairy Products' 'Beverages'\n",
      " 'Meat & Seafood' 'Grains & Cereals' 'Frozen Food' 'Bakery Items']\n",
      "Amount of each Category: Food Category\n",
      "Prepared Food          711\n",
      "Beverages              639\n",
      "Bakery Items           630\n",
      "Fruits & Vegetables    620\n",
      "Dairy Products         616\n",
      "Meat & Seafood         605\n",
      "Frozen Food            596\n",
      "Grains & Cereals       583\n",
      "Name: count, dtype: int64\n"
     ]
    }
   ],
   "source": [
    "unique_cat = df['Food Category'].unique()\n",
    "cat_amount = df['Food Category'].value_counts()\n",
    "print('Food Categories:', unique_cat)\n",
    "print('Amount of each Category:', cat_amount)"
   ]
  },
  {
   "cell_type": "code",
   "execution_count": 11,
   "id": "96a30148-b776-406e-ae3b-30c0f4e95a4c",
   "metadata": {},
   "outputs": [
    {
     "data": {
      "text/plain": [
       "<Axes: xlabel='Economic Loss (Million $)', ylabel='Food Category'>"
      ]
     },
     "execution_count": 11,
     "metadata": {},
     "output_type": "execute_result"
    },
    {
     "data": {
      "image/png": "[encoded data removed]",
      "text/plain": [
       "<Figure size 640x480 with 1 Axes>"
      ]
     },
     "metadata": {},
     "output_type": "display_data"
    }
   ],
   "source": [
    "df_category = pd.DataFrame(df.groupby('Food Category')['Economic Loss (Million $)'].sum())\n",
    "df_category = df_category.sort_values(by='Economic Loss (Million $)', ascending=False)\n",
    "sns.barplot(df_category, x=\"Economic Loss (Million $)\", y=\"Food Category\")"
   ]
  },
  {
   "cell_type": "code",
   "execution_count": 12,
   "id": "7b7f688e-ac89-49d3-8984-867e19dd3a39",
   "metadata": {},
   "outputs": [
    {
     "data": {
      "text/html": [
       "<div>\n",
       "<style scoped>\n",
       "    .dataframe tbody tr th:only-of-type {\n",
       "        vertical-align: middle;\n",
       "    }\n",
       "\n",
       "    .dataframe tbody tr th {\n",
       "        vertical-align: top;\n",
       "    }\n",
       "\n",
       "    .dataframe thead th {\n",
       "        text-align: right;\n",
       "    }\n",
       "</style>\n",
       "<table border=\"1\" class=\"dataframe\">\n",
       "  <thead>\n",
       "    <tr style=\"text-align: right;\">\n",
       "      <th></th>\n",
       "      <th>Year</th>\n",
       "      <th>Total Waste (Tons)</th>\n",
       "      <th>Economic Loss (Million $)</th>\n",
       "      <th>Avg Waste per Capita (Kg)</th>\n",
       "      <th>Population (Million)</th>\n",
       "      <th>Household Waste (%)</th>\n",
       "    </tr>\n",
       "  </thead>\n",
       "  <tbody>\n",
       "    <tr>\n",
       "      <th>Year</th>\n",
       "      <td>1.000000</td>\n",
       "      <td>0.003452</td>\n",
       "      <td>0.002113</td>\n",
       "      <td>0.013716</td>\n",
       "      <td>0.008015</td>\n",
       "      <td>-0.013416</td>\n",
       "    </tr>\n",
       "    <tr>\n",
       "      <th>Total Waste (Tons)</th>\n",
       "      <td>0.003452</td>\n",
       "      <td>1.000000</td>\n",
       "      <td>0.974522</td>\n",
       "      <td>0.019987</td>\n",
       "      <td>0.024048</td>\n",
       "      <td>0.010367</td>\n",
       "    </tr>\n",
       "    <tr>\n",
       "      <th>Economic Loss (Million $)</th>\n",
       "      <td>0.002113</td>\n",
       "      <td>0.974522</td>\n",
       "      <td>1.000000</td>\n",
       "      <td>0.017097</td>\n",
       "      <td>0.022253</td>\n",
       "      <td>0.006167</td>\n",
       "    </tr>\n",
       "    <tr>\n",
       "      <th>Avg Waste per Capita (Kg)</th>\n",
       "      <td>0.013716</td>\n",
       "      <td>0.019987</td>\n",
       "      <td>0.017097</td>\n",
       "      <td>1.000000</td>\n",
       "      <td>-0.029190</td>\n",
       "      <td>-0.019394</td>\n",
       "    </tr>\n",
       "    <tr>\n",
       "      <th>Population (Million)</th>\n",
       "      <td>0.008015</td>\n",
       "      <td>0.024048</td>\n",
       "      <td>0.022253</td>\n",
       "      <td>-0.029190</td>\n",
       "      <td>1.000000</td>\n",
       "      <td>-0.004848</td>\n",
       "    </tr>\n",
       "    <tr>\n",
       "      <th>Household Waste (%)</th>\n",
       "      <td>-0.013416</td>\n",
       "      <td>0.010367</td>\n",
       "      <td>0.006167</td>\n",
       "      <td>-0.019394</td>\n",
       "      <td>-0.004848</td>\n",
       "      <td>1.000000</td>\n",
       "    </tr>\n",
       "  </tbody>\n",
       "</table>\n",
       "</div>"
      ],
      "text/plain": [
       "                               Year  Total Waste (Tons)  \\\n",
       "Year                       1.000000            0.003452   \n",
       "Total Waste (Tons)         0.003452            1.000000   \n",
       "Economic Loss (Million $)  0.002113            0.974522   \n",
       "Avg Waste per Capita (Kg)  0.013716            0.019987   \n",
       "Population (Million)       0.008015            0.024048   \n",
       "Household Waste (%)       -0.013416            0.010367   \n",
       "\n",
       "                           Economic Loss (Million $)  \\\n",
       "Year                                        0.002113   \n",
       "Total Waste (Tons)                          0.974522   \n",
       "Economic Loss (Million $)                   1.000000   \n",
       "Avg Waste per Capita (Kg)                   0.017097   \n",
       "Population (Million)                        0.022253   \n",
       "Household Waste (%)                         0.006167   \n",
       "\n",
       "                           Avg Waste per Capita (Kg)  Population (Million)  \\\n",
       "Year                                        0.013716              0.008015   \n",
       "Total Waste (Tons)                          0.019987              0.024048   \n",
       "Economic Loss (Million $)                   0.017097              0.022253   \n",
       "Avg Waste per Capita (Kg)                   1.000000             -0.029190   \n",
       "Population (Million)                       -0.029190              1.000000   \n",
       "Household Waste (%)                        -0.019394             -0.004848   \n",
       "\n",
       "                           Household Waste (%)  \n",
       "Year                                 -0.013416  \n",
       "Total Waste (Tons)                    0.010367  \n",
       "Economic Loss (Million $)             0.006167  \n",
       "Avg Waste per Capita (Kg)            -0.019394  \n",
       "Population (Million)                 -0.004848  \n",
       "Household Waste (%)                   1.000000  "
      ]
     },
     "execution_count": 12,
     "metadata": {},
     "output_type": "execute_result"
    }
   ],
   "source": [
    "df.corr(numeric_only=True)"
   ]
  },
  {
   "cell_type": "code",
   "execution_count": 13,
   "id": "b1bf53b1-de77-4aed-a9b7-c0b70de60d3b",
   "metadata": {},
   "outputs": [
    {
     "data": {
      "text/plain": [
       "Food Category\n",
       "Prepared Food    17878643.94\n",
       "Name: Economic Loss (Million $), dtype: float64"
      ]
     },
     "execution_count": 13,
     "metadata": {},
     "output_type": "execute_result"
    }
   ],
   "source": [
    "df_test = df[df['Food Category'] == 'Prepared Food'].groupby('Food Category')['Economic Loss (Million $)'].sum()\n",
    "df_test"
   ]
  },
  {
   "cell_type": "code",
   "execution_count": 20,
   "id": "c4cc0db0-69ef-48d6-a805-2665f2dd1f37",
   "metadata": {
    "scrolled": true
   },
   "outputs": [
    {
     "data": {
      "text/html": [
       "\n",
       "        <iframe\n",
       "            width=\"100%\"\n",
       "            height=\"650\"\n",
       "            src=\"http://127.0.0.1:8050/\"\n",
       "            frameborder=\"0\"\n",
       "            allowfullscreen\n",
       "            \n",
       "        ></iframe>\n",
       "        "
      ],
      "text/plain": [
       "<IPython.lib.display.IFrame at 0x13415f51810>"
      ]
     },
     "metadata": {},
     "output_type": "display_data"
    }
   ],
   "source": [
    "from dash import Dash, html, dash_table, dcc, callback, Output, Input\n",
    "import pandas as pd\n",
    "import plotly.express as px\n",
    "\n",
    "# Initialize the app\n",
    "app = Dash()\n",
    "\n",
    "years = {}\n",
    "for i in range(2018, 2025):\n",
    "    years[i] = str(i)\n",
    "\n",
    "countries_options = [{'label': 'All Countries', 'value': 'ALL'}]\n",
    "countries = df.Country.unique()\n",
    "for i in range(len(countries)):\n",
    "    countries_options.append({'label': countries[i], 'value': countries[i]})\n",
    "\n",
    "# App layout\n",
    "app.layout = [\n",
    "    html.H1('Global Food Wastage',\n",
    "        style={'textAlign': 'center', 'color': '#503D36','font-size': 40}),\n",
    "    html.P(\"Years:\"),\n",
    "    dcc.RangeSlider(id='year-slider', min=2018, max=2024, step=1, marks=years, \n",
    "            value=[2018, 2024]),\n",
    "    dcc.Dropdown(id='country-dropdown',  value='ALL', searchable=True,\n",
    "                                placeholder='Select a Country',\n",
    "                                options=countries_options),\n",
    "    html.Br(), \n",
    "    html.Div(dcc.Graph(id='category-hist', figure={})),\n",
    "    html.Br(), \n",
    "    html.Div(dcc.Graph(id='total-waste-pie')),\n",
    "    html.Br(), \n",
    "    html.Div(dcc.Graph(id='avg-waste-bar')),\n",
    "    html.Br(),\n",
    "]\n",
    "@app.callback(Output(component_id='category-hist', component_property='figure'),\n",
    "              [Input(component_id='country-dropdown', component_property='value'), \n",
    "              Input(component_id=\"year-slider\", component_property=\"value\")])\n",
    "\n",
    "def update_hist(selected_country, selected_years):\n",
    "    data = filter_by_year(selected_years, df)\n",
    "    df_category = pd.DataFrame(data.groupby(['Food Category'], as_index=False)['Total Waste (Tons)'].sum())\n",
    "    if selected_country == 'ALL':\n",
    "        fig = px.histogram(df_category, x='Food Category', y='Total Waste (Tons)',\n",
    "                           title='Global Food Wastage by Category for year' + format_years(selected_years))\n",
    "        return fig\n",
    "    else:\n",
    "        filtered_df = data[data['Country'] == selected_country]\n",
    "        df_category = pd.DataFrame(filtered_df.groupby(['Food Category'], as_index=False)['Total Waste (Tons)'].sum())\n",
    "        fig = px.histogram(df_category, x='Food Category', y='Total Waste (Tons)',\n",
    "                           title='Food Wastage of ' + \n",
    "                           selected_country + \n",
    "                           ' by Category for year' + format_years(selected_years))\n",
    "        return fig\n",
    "\n",
    "@app.callback(Output(component_id='total-waste-pie', component_property='figure'),\n",
    "              [Input(component_id='country-dropdown', component_property='value'), \n",
    "              Input(component_id=\"year-slider\", component_property=\"value\")])\n",
    "\n",
    "def update_pie(selected_country, selected_years):\n",
    "    data = filter_by_year(selected_years, df)\n",
    "    df_country = pd.DataFrame(data.groupby(['Country'], as_index=False)['Economic Loss (Million $)'].sum())\n",
    "    if selected_country == 'ALL':\n",
    "        fig = px.pie(df_country, values='Economic Loss (Million $)', \n",
    "                     names='Country', \n",
    "                     title='Global Economic Loss for year' + format_years(selected_years))\n",
    "        return fig\n",
    "    else:\n",
    "        filtered_df = data[data['Country'] == selected_country]\n",
    "        fig = px.pie(filtered_df, names='Food Category', \n",
    "                     values='Economic Loss (Million $)', \n",
    "                     title='Economic Loss of ' + selected_country + ' by Category for year' + format_years(selected_years))\n",
    "        return fig\n",
    "\n",
    "@app.callback(Output(component_id='avg-waste-bar', component_property='figure'),\n",
    "              [Input(component_id='country-dropdown', component_property='value'), \n",
    "              Input(component_id=\"year-slider\", component_property=\"value\")])\n",
    "\n",
    "def update_bar(selected_country, selected_years):\n",
    "    data = filter_by_year(selected_years, df)\n",
    "    df_capita = pd.DataFrame(data.groupby(['Country', 'Food Category'], as_index=False)['Avg Waste per Capita (Kg)'].mean())\n",
    "    \n",
    "    if selected_country == 'ALL':\n",
    "        fig = px.bar(df_capita, x='Country', y='Avg Waste per Capita (Kg)', color='Food Category',\n",
    "                 title='Average Waste per Capita for year' + format_years(selected_years))\n",
    "        return fig\n",
    "    else:\n",
    "        filtered_df = df_capita[df_capita['Country'] == selected_country]\n",
    "        fig = px.bar(filtered_df, x='Food Category', \n",
    "                     y='Avg Waste per Capita (Kg)', \n",
    "                     title='Average Waste per Capita ' + selected_country + ' by Category for year' + format_years(selected_years))\n",
    "        return fig\n",
    "\n",
    "#to do show houshold waste variable \n",
    "    \n",
    "def filter_by_year(years, dataset):\n",
    "    try:\n",
    "        data = dataset[dataset['Year'] >= years[0]]\n",
    "        data = data[data['Year'] <= years[1]]\n",
    "    except:\n",
    "        print('No \"Year\" column in the dataset!')\n",
    "    else:\n",
    "        return data\n",
    "\n",
    "def format_years(years):\n",
    "    year_range = str(years[0])\n",
    "    word_ending = ' '\n",
    "    if years[0] != years[1]:\n",
    "        year_range += '-' + str(years[1])\n",
    "        word_ending = 's '\n",
    "    return word_ending + year_range\n",
    "\n",
    "# Run the app\n",
    "if __name__ == '__main__':\n",
    "    app.run(debug=True)"
   ]
  },
  {
   "cell_type": "code",
   "execution_count": null,
   "id": "bac47ba0-98dd-4cb1-943d-f68167182a0c",
   "metadata": {},
   "outputs": [],
   "source": []
  }
 ],
 "metadata": {
  "kernelspec": {
   "display_name": "Python 3 (ipykernel)",
   "language": "python",
   "name": "python3"
  },
  "language_info": {
   "codemirror_mode": {
    "name": "ipython",
    "version": 3
   },
   "file_extension": ".py",
   "mimetype": "text/x-python",
   "name": "python",
   "nbconvert_exporter": "python",
   "pygments_lexer": "ipython3",
   "version": "3.11.7"
  }
 },
 "nbformat": 4,
 "nbformat_minor": 5
}
